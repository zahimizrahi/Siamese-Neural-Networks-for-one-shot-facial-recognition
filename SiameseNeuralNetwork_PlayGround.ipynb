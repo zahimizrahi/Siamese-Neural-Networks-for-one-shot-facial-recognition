{
 "cells": [
  {
   "cell_type": "code",
   "execution_count": 14,
   "metadata": {
    "colab": {},
    "colab_type": "code",
    "id": "5E1-UBBwhVSR"
   },
   "outputs": [
    {
     "name": "stdout",
     "output_type": "stream",
     "text": [
      "Requirement already satisfied: tensorflow-gpu in c:\\users\\aviad\\anaconda3\\envs\\tensorflow_env\\lib\\site-packages (2.1.0)\n",
      "Requirement already satisfied: google-pasta>=0.1.6 in c:\\users\\aviad\\anaconda3\\envs\\tensorflow_env\\lib\\site-packages (from tensorflow-gpu) (0.2.0)\n",
      "Requirement already satisfied: numpy<2.0,>=1.16.0 in c:\\users\\aviad\\anaconda3\\envs\\tensorflow_env\\lib\\site-packages (from tensorflow-gpu) (1.18.2)\n",
      "Requirement already satisfied: keras-applications>=1.0.8 in c:\\users\\aviad\\anaconda3\\envs\\tensorflow_env\\lib\\site-packages (from tensorflow-gpu) (1.0.8)\n",
      "Requirement already satisfied: astor>=0.6.0 in c:\\users\\aviad\\anaconda3\\envs\\tensorflow_env\\lib\\site-packages (from tensorflow-gpu) (0.7.1)\n",
      "Requirement already satisfied: opt-einsum>=2.3.2 in c:\\users\\aviad\\anaconda3\\envs\\tensorflow_env\\lib\\site-packages (from tensorflow-gpu) (3.2.1)\n",
      "Requirement already satisfied: tensorflow-gpu-estimator<2.2.0,>=2.1.0rc0 in c:\\users\\aviad\\anaconda3\\envs\\tensorflow_env\\lib\\site-packages (from tensorflow-gpu) (2.1.0)\n",
      "Requirement already satisfied: keras-preprocessing>=1.1.0 in c:\\users\\aviad\\anaconda3\\envs\\tensorflow_env\\lib\\site-packages (from tensorflow-gpu) (1.1.0)\n",
      "Requirement already satisfied: tensorboard<2.2.0,>=2.1.0 in c:\\users\\aviad\\anaconda3\\envs\\tensorflow_env\\lib\\site-packages (from tensorflow-gpu) (2.1.1)\n",
      "Requirement already satisfied: absl-py>=0.7.0 in c:\\users\\aviad\\anaconda3\\envs\\tensorflow_env\\lib\\site-packages (from tensorflow-gpu) (0.9.0)\n",
      "Requirement already satisfied: protobuf>=3.8.0 in c:\\users\\aviad\\anaconda3\\envs\\tensorflow_env\\lib\\site-packages (from tensorflow-gpu) (3.11.4)\n",
      "Requirement already satisfied: wheel>=0.26; python_version >= \"3\" in c:\\users\\aviad\\anaconda3\\envs\\tensorflow_env\\lib\\site-packages (from tensorflow-gpu) (0.34.2)\n",
      "Requirement already satisfied: wrapt>=1.11.1 in c:\\users\\aviad\\anaconda3\\envs\\tensorflow_env\\lib\\site-packages (from tensorflow-gpu) (1.12.1)\n",
      "Requirement already satisfied: six>=1.12.0 in c:\\users\\aviad\\anaconda3\\envs\\tensorflow_env\\lib\\site-packages (from tensorflow-gpu) (1.14.0)\n",
      "Requirement already satisfied: grpcio>=1.8.6 in c:\\users\\aviad\\anaconda3\\envs\\tensorflow_env\\lib\\site-packages (from tensorflow-gpu) (1.23.0)\n",
      "Requirement already satisfied: gast==0.2.2 in c:\\users\\aviad\\anaconda3\\envs\\tensorflow_env\\lib\\site-packages (from tensorflow-gpu) (0.2.2)\n",
      "Requirement already satisfied: scipy==1.4.1; python_version >= \"3\" in c:\\users\\aviad\\anaconda3\\envs\\tensorflow_env\\lib\\site-packages (from tensorflow-gpu) (1.4.1)\n",
      "Requirement already satisfied: termcolor>=1.1.0 in c:\\users\\aviad\\anaconda3\\envs\\tensorflow_env\\lib\\site-packages (from tensorflow-gpu) (1.1.0)\n",
      "Requirement already satisfied: h5py in c:\\users\\aviad\\anaconda3\\envs\\tensorflow_env\\lib\\site-packages (from keras-applications>=1.0.8->tensorflow-gpu) (2.10.0)\n",
      "Requirement already satisfied: google-auth-oauthlib<0.5,>=0.4.1 in c:\\users\\aviad\\anaconda3\\envs\\tensorflow_env\\lib\\site-packages (from tensorboard<2.2.0,>=2.1.0->tensorflow-gpu) (0.4.1)\n",
      "Requirement already satisfied: requests<3,>=2.21.0 in c:\\users\\aviad\\anaconda3\\envs\\tensorflow_env\\lib\\site-packages (from tensorboard<2.2.0,>=2.1.0->tensorflow-gpu) (2.23.0)\n",
      "Requirement already satisfied: setuptools>=41.0.0 in c:\\users\\aviad\\anaconda3\\envs\\tensorflow_env\\lib\\site-packages (from tensorboard<2.2.0,>=2.1.0->tensorflow-gpu) (46.1.1.post20200323)\n",
      "Requirement already satisfied: markdown>=2.6.8 in c:\\users\\aviad\\anaconda3\\envs\\tensorflow_env\\lib\\site-packages (from tensorboard<2.2.0,>=2.1.0->tensorflow-gpu) (3.2.1)\n",
      "Requirement already satisfied: google-auth<2,>=1.6.3 in c:\\users\\aviad\\anaconda3\\envs\\tensorflow_env\\lib\\site-packages (from tensorboard<2.2.0,>=2.1.0->tensorflow-gpu) (1.14.1)\n",
      "Requirement already satisfied: werkzeug>=0.11.15 in c:\\users\\aviad\\anaconda3\\envs\\tensorflow_env\\lib\\site-packages (from tensorboard<2.2.0,>=2.1.0->tensorflow-gpu) (1.0.0)\n",
      "Requirement already satisfied: requests-oauthlib>=0.7.0 in c:\\users\\aviad\\anaconda3\\envs\\tensorflow_env\\lib\\site-packages (from google-auth-oauthlib<0.5,>=0.4.1->tensorboard<2.2.0,>=2.1.0->tensorflow-gpu) (1.3.0)\n",
      "Requirement already satisfied: idna<3,>=2.5 in c:\\users\\aviad\\anaconda3\\envs\\tensorflow_env\\lib\\site-packages (from requests<3,>=2.21.0->tensorboard<2.2.0,>=2.1.0->tensorflow-gpu) (2.9)\n",
      "Requirement already satisfied: certifi>=2017.4.17 in c:\\users\\aviad\\anaconda3\\envs\\tensorflow_env\\lib\\site-packages (from requests<3,>=2.21.0->tensorboard<2.2.0,>=2.1.0->tensorflow-gpu) (2020.4.5.1)\n",
      "Requirement already satisfied: urllib3!=1.25.0,!=1.25.1,<1.26,>=1.21.1 in c:\\users\\aviad\\anaconda3\\envs\\tensorflow_env\\lib\\site-packages (from requests<3,>=2.21.0->tensorboard<2.2.0,>=2.1.0->tensorflow-gpu) (1.25.9)\n",
      "Requirement already satisfied: chardet<4,>=3.0.2 in c:\\users\\aviad\\anaconda3\\envs\\tensorflow_env\\lib\\site-packages (from requests<3,>=2.21.0->tensorboard<2.2.0,>=2.1.0->tensorflow-gpu) (3.0.4)\n",
      "Requirement already satisfied: rsa<4.1,>=3.1.4 in c:\\users\\aviad\\anaconda3\\envs\\tensorflow_env\\lib\\site-packages (from google-auth<2,>=1.6.3->tensorboard<2.2.0,>=2.1.0->tensorflow-gpu) (4.0)\n",
      "Requirement already satisfied: cachetools<5.0,>=2.0.0 in c:\\users\\aviad\\anaconda3\\envs\\tensorflow_env\\lib\\site-packages (from google-auth<2,>=1.6.3->tensorboard<2.2.0,>=2.1.0->tensorflow-gpu) (4.1.0)\n",
      "Requirement already satisfied: pyasn1-modules>=0.2.1 in c:\\users\\aviad\\anaconda3\\envs\\tensorflow_env\\lib\\site-packages (from google-auth<2,>=1.6.3->tensorboard<2.2.0,>=2.1.0->tensorflow-gpu) (0.2.8)\n",
      "Requirement already satisfied: oauthlib>=3.0.0 in c:\\users\\aviad\\anaconda3\\envs\\tensorflow_env\\lib\\site-packages (from requests-oauthlib>=0.7.0->google-auth-oauthlib<0.5,>=0.4.1->tensorboard<2.2.0,>=2.1.0->tensorflow-gpu) (3.1.0)\n",
      "Requirement already satisfied: pyasn1>=0.1.3 in c:\\users\\aviad\\anaconda3\\envs\\tensorflow_env\\lib\\site-packages (from rsa<4.1,>=3.1.4->google-auth<2,>=1.6.3->tensorboard<2.2.0,>=2.1.0->tensorflow-gpu) (0.4.8)\n"
     ]
    }
   ],
   "source": [
    "# %%capture\n",
    "! pip install tensorflow-gpu"
   ]
  },
  {
   "cell_type": "code",
   "execution_count": null,
   "metadata": {
    "colab": {},
    "colab_type": "code",
    "id": "EzA0OU2CrwRJ"
   },
   "outputs": [],
   "source": [
    "# %%capture\n",
    "! pip install tensorflow==2.2.0-rc2"
   ]
  },
  {
   "cell_type": "markdown",
   "metadata": {
    "colab_type": "text",
    "id": "SfeB219PhfTH"
   },
   "source": []
  },
  {
   "cell_type": "markdown",
   "metadata": {
    "colab_type": "text",
    "id": "sXbemJ0XhfWq"
   },
   "source": [
    "In this assignment, you will use convolutional neural networks (CNNs) to carry out the task of facial recognition. As shown in class, CNNs are the current state-of-the-art approach for analyzing image-based datasets. More specifically, you will implement a one-shot classification solution. Wikipedia defines one-shot learning as follows: \n",
    "*“… an object categorization problem, found mostly in computer vision. Whereas most machine learning based object categorization algorithms require training on hundreds or thousands of samples/images and very large datasets, one-shot learning aims to learn information about object categories from one, or only a few, training samples/images.”*\n",
    "\n",
    "Our work will be based on the paper Siamese Neural Networks for One-shot Image Recognition . Our goal, like that of the paper, is to successfully execute a one-shot learning task for previously unseen objects. Given two facial images of previously unseen persons, our architecture will have to successfully determine whether they are the same person. \n"
   ]
  },
  {
   "cell_type": "code",
   "execution_count": null,
   "metadata": {
    "colab": {},
    "colab_type": "code",
    "id": "EM1y378bhbna"
   },
   "outputs": [],
   "source": [
    "import tensorflow as tf\n",
    "import numpy as np \n",
    "from numpy.random import seed\n",
    "from tensorflow.random import set_seed\n",
    "SEED = 42\n",
    "seed(SEED)\n",
    "set_seed(SEED)"
   ]
  },
  {
   "cell_type": "code",
   "execution_count": null,
   "metadata": {
    "colab": {
     "base_uri": "https://localhost:8080/",
     "height": 103
    },
    "colab_type": "code",
    "id": "YAmXw9jQhrST",
    "outputId": "9771508c-fb05-4c76-f8e0-6678a58ecd0a"
   },
   "outputs": [],
   "source": [
    "print('GPU' if tf.test.is_gpu_available() else 'Not GPU. Please change to GPU!')"
   ]
  },
  {
   "cell_type": "markdown",
   "metadata": {
    "colab_type": "text",
    "id": "pzGx6QauipsB"
   },
   "source": []
  },
  {
   "cell_type": "markdown",
   "metadata": {
    "colab_type": "text",
    "id": "E6ZN1NtPipus"
   },
   "source": [
    "# Loading Data "
   ]
  },
  {
   "cell_type": "markdown",
   "metadata": {
    "colab_type": "text",
    "id": "el0MepFLjI6J"
   },
   "source": [
    "http://vis-www.cs.umass.edu/lfw/index.html\n",
    "\n",
    "Download the dataset. Note: there are several versions of this dataset, use the version found here - https://talhassner.github.io/home/projects/lfwa/index.html (it’s called LFW-a, and is also used in the DeepFace paper)."
   ]
  },
  {
   "cell_type": "code",
   "execution_count": null,
   "metadata": {
    "colab": {},
    "colab_type": "code",
    "id": "2k4ID9s1ivT2"
   },
   "outputs": [],
   "source": [
    "%%capture\n",
    "# getting the LFW-a \n",
    "! gdown https://drive.google.com/uc?id=1p1wjaqpTh_5RHfJu4vUh8JJCdKwYMHCp \n",
    "# getting the recommended training/testing split\n",
    "! wget http://vis-www.cs.umass.edu/lfw/pairsDevTrain.txt\n",
    "! wget http://vis-www.cs.umass.edu/lfw/pairsDevTest.txt \n",
    "!unzip lfwa.zip"
   ]
  },
  {
   "cell_type": "code",
   "execution_count": 0,
   "metadata": {
    "colab": {},
    "colab_type": "code",
    "id": "IrCh6Bqq_2_A"
   },
   "outputs": [],
   "source": [
    "#!rm -rf data\n",
    "#!rm -rf lfw2\n",
    "#!rm pairsDevTest.txt\n",
    "#!rm pairsDevTrain.txt"
   ]
  },
  {
   "cell_type": "markdown",
   "metadata": {
    "colab_type": "text",
    "id": "zUhtM5pS2wy7"
   },
   "source": [
    "# Main\n",
    "\n"
   ]
  },
  {
   "cell_type": "code",
   "execution_count": null,
   "metadata": {
    "colab": {},
    "colab_type": "code",
    "id": "CgdjQzrWfjmO"
   },
   "outputs": [],
   "source": [
    "from DataProcessor import DataProcessor\n",
    "from utils import *\n",
    "import numpy as np\n",
    "import shutil\n",
    "import os\n",
    "import numpy as np\n",
    "import pandas as pd\n",
    "from string import ascii_lowercase, ascii_uppercase\n",
    "import itertools"
   ]
  },
  {
   "cell_type": "code",
   "execution_count": 0,
   "metadata": {
    "colab": {},
    "colab_type": "code",
    "id": "CPSzMOjG2uqW"
   },
   "outputs": [],
   "source": [
    "prepare_data()"
   ]
  },
  {
   "cell_type": "code",
   "execution_count": 0,
   "metadata": {
    "colab": {},
    "colab_type": "code",
    "id": "G6nSZXITHgdA"
   },
   "outputs": [],
   "source": [
    "train_paths = DataProcessor(TRAIN_DST_PATH, TRAIN_FILEPATH,False).load_data()\n",
    "test_paths = DataProcessor(TEST_DST_PATH, TEST_FILEPATH, False).load_data()"
   ]
  },
  {
   "cell_type": "markdown",
   "metadata": {
    "colab_type": "text",
    "id": "QY2qleYRS4fY"
   },
   "source": [
    "## Splitting to train and Val\n",
    "Needs to explain why the seperation is good.\n",
    "How to split the data? \n",
    "It is often recommended to split the training set into train set and validation set; so we use a 80-20 train-validation ratio.\n",
    "If we randomly choose a 80-20 seperation ratio we will likely get subjects included in both the training and validation sets, which will cause a problem in the training. \n",
    "Therefore, we explore seperating the sets based on the person's name, to guarantee that the sets are independent.\n",
    "But we can't also do it by person's name since a name can appear in different pairs. "
   ]
  },
  {
   "cell_type": "code",
   "execution_count": 0,
   "metadata": {
    "colab": {},
    "colab_type": "code",
    "id": "8nWgAF-5y6ss"
   },
   "outputs": [],
   "source": [
    "from prettytable import PrettyTable\n",
    "train_same = [get_image_name(p[0]) for p in train_paths[:1100]]\n",
    "train_diff = [get_image_name(p[0]) for p in train_paths[1100:]]"
   ]
  },
  {
   "cell_type": "markdown",
   "metadata": {
    "colab_type": "text",
    "id": "X16w4owuVIDM"
   },
   "source": [
    "A) first, let's check distribution of each letter/person. "
   ]
  },
  {
   "cell_type": "code",
   "execution_count": 8,
   "metadata": {
    "colab": {
     "base_uri": "https://localhost:8080/",
     "height": 133
    },
    "colab_type": "code",
    "id": "ChSRc3unpx1F",
    "outputId": "730b7ec1-88ec-4672-dadd-791b4c50c868"
   },
   "outputs": [
    {
     "name": "stdout",
     "output_type": "stream",
     "text": [
      "+-----------+-----+-----+-----+-----+----+----+----+----+----+-----+----+----+-----+----+---+----+---+----+----+----+---+----+----+---+----+---+\n",
      "|           |  A  |  B  |  C  |  D  | E  | F  | G  | H  | I  |  J  | K  | L  |  M  | N  | O | P  | Q | R  | S  | T  | U | V  | W  | X | Y  | Z |\n",
      "+-----------+-----+-----+-----+-----+----+----+----+----+----+-----+----+----+-----+----+---+----+---+----+----+----+---+----+----+---+----+---+\n",
      "|    Same   | 101 |  59 |  80 |  58 | 45 | 20 | 50 | 42 | 9  | 145 | 29 | 41 | 102 | 25 | 4 | 46 | 7 | 74 | 62 | 45 | 1 | 16 | 17 | 3 | 13 | 6 |\n",
      "| Different | 144 | 121 | 114 | 103 | 64 | 31 | 62 | 47 | 16 | 151 | 34 | 40 |  63 | 22 | 1 | 34 | 2 | 20 | 21 | 8  | 0 | 1  | 1  | 0 | 0  | 0 |\n",
      "+-----------+-----+-----+-----+-----+----+----+----+----+----+-----+----+----+-----+----+---+----+---+----+----+----+---+----+----+---+----+---+\n",
      "\n"
     ]
    }
   ],
   "source": [
    "h_same = get_histogram_of_letters(train_same,1)\n",
    "h_diff = get_histogram_of_letters(train_diff, 1)\n",
    "\n",
    "t = PrettyTable([''] + list(h_same.keys()))\n",
    "t.add_row(['Same'] + list(h_same.values()))\n",
    "t.add_row(['Different'] + list(h_diff.values()))\n",
    "print(t)\n",
    "print()"
   ]
  },
  {
   "cell_type": "markdown",
   "metadata": {
    "colab_type": "text",
    "id": "fHdwYQSHuIFh"
   },
   "source": [
    "so, In order to get 80% train-validation ratio, we need to explore which letters to choose in order to get approximately 80% train-validation ratio for each class (Same/Different). I'll use this algorithm of subset sum for each of the different classes (Same/Different) to find a subset of size (3) with total sum of $$ p_{validation} * {totalsize} = 0.2*1100 = 220 $$ with ${\\delta}$  of 5. I will do it also for the total and see the intersection of the indexes.\n"
   ]
  },
  {
   "cell_type": "code",
   "execution_count": 0,
   "metadata": {
    "colab": {},
    "colab_type": "code",
    "id": "CwjavXCLwuUF"
   },
   "outputs": [],
   "source": [
    "\n",
    "arr_same = list(h_same.values())\n",
    "res_same =  [tuple(x) for x in subset_sum(arr_same, 3, 220, 5, [])]\n",
    "\n",
    "arr_diff = list(h_same.values())\n",
    "res_diff = [tuple(x) for x in subset_sum(arr_same, 3, 220, 5, [])]\n",
    "\n",
    "\n",
    "h_total = h_same.copy()\n",
    "for key in h_diff.keys():\n",
    "  h_total[key] += h_diff[key]\n",
    "\n",
    "arr_total = list(h_same.values())\n",
    "res_total = [tuple(x) for x in subset_sum(arr_same, 3, 440, 5, [])]"
   ]
  },
  {
   "cell_type": "markdown",
   "metadata": {
    "colab_type": "text",
    "id": "ymwIOxjp6oev"
   },
   "source": [
    "* One of the solution for the problem this algorithm will gives us the sum of the indexes of J,K,L."
   ]
  },
  {
   "cell_type": "markdown",
   "metadata": {
    "colab_type": "text",
    "id": "_PYnnugLQKjO"
   },
   "source": [
    "Let's see the details if I choose J,K,L as letters, which means that all the images of the people starts with those letters will be considered as part of validation set:"
   ]
  },
  {
   "cell_type": "code",
   "execution_count": 10,
   "metadata": {
    "colab": {
     "base_uri": "https://localhost:8080/",
     "height": 133
    },
    "colab_type": "code",
    "id": "e9LcQCkBuG5V",
    "outputId": "c263a01f-6431-4a49-af58-710b6a633524"
   },
   "outputs": [
    {
     "name": "stdout",
     "output_type": "stream",
     "text": [
      "+-----------+------------+----------------+---------------------+------------+\n",
      "|           | Total Size | Chosen Letters | Chosen Letters Size | Percentage |\n",
      "+-----------+------------+----------------+---------------------+------------+\n",
      "|    Same   |    1100    |     J,K,L      |         215         |   19.55%   |\n",
      "| Different |    1100    |     J,K,L      |         225         |   20.45%   |\n",
      "|    All    |    2200    |      A-Z       |         440         |   20.00%   |\n",
      "+-----------+------------+----------------+---------------------+------------+\n"
     ]
    }
   ],
   "source": [
    "letters_selected_same = h_same['J'] + h_same['K'] + h_same['L']\n",
    "letters_selected_different = h_diff['J'] + h_diff['K'] + h_diff['L']\n",
    "\n",
    "t = PrettyTable(['', 'Total Size', 'Chosen Letters', 'Chosen Letters Size', 'Percentage'])\n",
    "t.add_row(['Same', sum(h_same.values()), 'J,K,L', letters_selected_same, f'{letters_selected_same/len(train_same)*100:.2f}%'])\n",
    "t.add_row(['Different', sum(h_diff.values()), 'J,K,L', letters_selected_different, f'{letters_selected_different/len(train_diff)*100:.2f}%'])\n",
    "t.add_row(['All', sum(h_same.values()) + sum(h_diff.values()), 'A-Z', letters_selected_same + letters_selected_different,  f'{(letters_selected_same + letters_selected_different)/(len(train_same) + len(train_diff))*100:.2f}%'])\n",
    "print(t)"
   ]
  },
  {
   "cell_type": "markdown",
   "metadata": {
    "colab_type": "text",
    "id": "zN0seJ746GNw"
   },
   "source": [
    "Looks Good! Let's split now:\n"
   ]
  },
  {
   "cell_type": "code",
   "execution_count": 11,
   "metadata": {
    "colab": {
     "base_uri": "https://localhost:8080/",
     "height": 200
    },
    "colab_type": "code",
    "id": "rvhMdWTqRcCN",
    "outputId": "b48baf2c-655c-47b5-c277-692f1b114a32"
   },
   "outputs": [
    {
     "name": "stdout",
     "output_type": "stream",
     "text": [
      "+----------------------+-----------+------------+\n",
      "|                      |    Size   | Percentage |\n",
      "+----------------------+-----------+------------+\n",
      "|      Train Same      |  885/2200 |   40.23%   |\n",
      "|   Train Different    |  875/2200 |   39.77%   |\n",
      "|        Train         | 1760/2200 |   80.00%   |\n",
      "|                      |           |            |\n",
      "|   Validation Same    |  215/2200 |   9.77%    |\n",
      "| Validation Different |  225/2200 |   10.23%   |\n",
      "|      Validation      |  440/2200 |   20.00%   |\n",
      "+----------------------+-----------+------------+\n"
     ]
    }
   ],
   "source": [
    "train_same_paths, val_same_paths = split_data_by_letters(train_paths[:1100], letters='JKL')\n",
    "train_diff_paths, val_diff_paths = split_data_by_letters(train_paths[1100:], letters='JKL') \n",
    "\n",
    "train_total_split = train_same_paths + train_diff_paths\n",
    "val_total_split = val_same_paths + val_diff_paths\n",
    "\n",
    "t = PrettyTable(['', 'Size', 'Percentage'])\n",
    "t.add_row(['Train Same', f'{len(train_same_paths)}/{len(train_paths)}', f'{len(train_same_paths)/len(train_paths)*100:.2f}%'])\n",
    "t.add_row(['Train Different', f'{len(train_diff_paths)}/{len(train_paths)}', f'{len(train_diff_paths)/len(train_paths)*100:.2f}%'])\n",
    "t.add_row(['Train', f'{len(train_total_split)}/{len(train_paths)}', f'{len(train_total_split)/len(train_paths)*100:.2f}%'])\n",
    "t.add_row(['', '', ''])\n",
    "t.add_row(['Validation Same', f'{len(val_same_paths)}/{len(train_paths)}', f'{len(val_same_paths)/len(train_paths)*100:.2f}%'])\n",
    "t.add_row(['Validation Different', f'{len(val_diff_paths)}/{len(train_paths)}', f'{len(val_diff_paths)/len(train_paths)*100:.2f}%'])\n",
    "t.add_row(['Validation', f'{len(val_total_split)}/{len(train_paths)}', f'{len(val_total_split)/len(train_paths)*100:.2f}%'])\n",
    "print(t)"
   ]
  },
  {
   "cell_type": "code",
   "execution_count": 0,
   "metadata": {
    "colab": {},
    "colab_type": "code",
    "id": "PMYbeeBo1eps"
   },
   "outputs": [],
   "source": []
  },
  {
   "cell_type": "markdown",
   "metadata": {
    "colab_type": "text",
    "id": "bCKzYm5M1gCQ"
   },
   "source": [
    "## Create dataset for tensorflow"
   ]
  },
  {
   "cell_type": "code",
   "execution_count": 12,
   "metadata": {
    "colab": {
     "base_uri": "https://localhost:8080/",
     "height": 810
    },
    "colab_type": "code",
    "id": "1o0vL3Ua3FYA",
    "outputId": "66916cf6-47d1-46fd-a778-79cb972f46a7"
   },
   "outputs": [
    {
     "name": "stdout",
     "output_type": "stream",
     "text": [
      "<ParallelMapDataset shapes: (None, None, 1), types: tf.uint8>\n"
     ]
    },
    {
     "data": {
      "image/png": "[encoded data removed]",
      "text/plain": [
       "<Figure size 576x576 with 1 Axes>"
      ]
     },
     "metadata": {
      "tags": []
     },
     "output_type": "display_data"
    },
    {
     "data": {
      "image/png": "[encoded data removed]",
      "text/plain": [
       "<Figure size 432x288 with 1 Axes>"
      ]
     },
     "metadata": {
      "tags": []
     },
     "output_type": "display_data"
    },
    {
     "data": {
      "image/png": "[encoded data removed]",
      "text/plain": [
       "<Figure size 432x288 with 1 Axes>"
      ]
     },
     "metadata": {
      "tags": []
     },
     "output_type": "display_data"
    },
    {
     "data": {
      "image/png": "[encoded data removed]",
      "text/plain": [
       "<Figure size 432x288 with 1 Axes>"
      ]
     },
     "metadata": {
      "tags": []
     },
     "output_type": "display_data"
    },
    {
     "name": "stdout",
     "output_type": "stream",
     "text": [
      "Same\n",
      "Same\n",
      "Same\n",
      "Same\n",
      "Same\n",
      "Same\n",
      "Same\n",
      "Same\n",
      "Same\n",
      "Same\n"
     ]
    }
   ],
   "source": [
    "from utils import create_tensor_dataset, get_image_name\n",
    "import numpy as np\n",
    "import matplotlib.pyplot as plt\n",
    "\n",
    "labels_names = ['Different', 'Same']\n",
    "\n",
    "left_train_paths = [ p[0] for p in train_paths]\n",
    "image_data_tensor = create_tensor_dataset(img_paths=left_train_paths)\n",
    "print(image_data_tensor)\n",
    "\n",
    "plt.figure(figsize=(8,8))\n",
    "for n, image in enumerate(image_data_tensor.take(4)):\n",
    "  plt.subplot(2,2,n+1)\n",
    "  plt.imshow(np.squeeze(image), cmap='gray', vmin=0, vmax=255)\n",
    "  plt.grid(False)\n",
    "  plt.xticks([])\n",
    "  plt.yticks([])\n",
    "  plt.xlabel(get_image_name(left_train_paths[n]))\n",
    "  plt.show()\n",
    "  \n",
    "labels = [ p[2] for p in train_paths ]\n",
    "label_dataset_tensor = create_tensor_dataset(labels=labels)\n",
    "for l in label_dataset_tensor.take(10):\n",
    "  print(labels_names[int(l.numpy())])"
   ]
  },
  {
   "cell_type": "markdown",
   "metadata": {
    "colab_type": "text",
    "id": "3TzVc2KD11cV"
   },
   "source": [
    "## Run Model"
   ]
  },
  {
   "cell_type": "code",
   "execution_count": 15,
   "metadata": {
    "colab": {
     "base_uri": "https://localhost:8080/",
     "height": 755
    },
    "colab_type": "code",
    "id": "Hl-vk9I613qJ",
    "outputId": "dc88ad0a-e973-4234-f958-a02ed9441e07"
   },
   "outputs": [
    {
     "name": "stdout",
     "output_type": "stream",
     "text": [
      "Model: \"model_1\"\n",
      "__________________________________________________________________________________________________\n",
      "Layer (type)                    Output Shape         Param #     Connected to                     \n",
      "==================================================================================================\n",
      "input_3 (InputLayer)            [(None, 125, 125, 1) 0                                            \n",
      "__________________________________________________________________________________________________\n",
      "input_4 (InputLayer)            [(None, 125, 125, 1) 0                                            \n",
      "__________________________________________________________________________________________________\n",
      "sequential_1 (Sequential)       (None, 256)          11419072    input_3[0][0]                    \n",
      "                                                                 input_4[0][0]                    \n",
      "__________________________________________________________________________________________________\n",
      "lambda_1 (Lambda)               (None, 256)          0           sequential_1[1][0]               \n",
      "                                                                 sequential_1[2][0]               \n",
      "__________________________________________________________________________________________________\n",
      "dense_3 (Dense)                 (None, 1)            257         lambda_1[0][0]                   \n",
      "==================================================================================================\n",
      "Total params: 11,419,329\n",
      "Trainable params: 11,419,329\n",
      "Non-trainable params: 0\n",
      "__________________________________________________________________________________________________\n"
     ]
    },
    {
     "data": {
      "image/png": "[encoded data removed]",
      "text/plain": [
       "<IPython.core.display.Image object>"
      ]
     },
     "execution_count": 15,
     "metadata": {
      "tags": []
     },
     "output_type": "execute_result"
    }
   ],
   "source": [
    "# Print model information \n",
    "from prettytable import PrettyTable\n",
    "from prettytable import MSWORD_FRIENDLY\n",
    "from tensorflow.keras.utils import plot_model\n",
    "from Model import SiameseModel\n",
    "\n",
    "\n",
    "siamese_model = SiameseModel(\n",
    "    filter_size=64,\n",
    "    input_shape=[125,125,1],\n",
    "    units=4*64 #filters*64\n",
    "    #input_shape = (256,256,1)\n",
    ")\n",
    "\n",
    "siamese_model.model.summary()\n",
    "plot_model(siamese_model.model, 'siamese-network.png', show_shapes=True)"
   ]
  },
  {
   "cell_type": "code",
   "execution_count": 16,
   "metadata": {
    "colab": {
     "base_uri": "https://localhost:8080/",
     "height": 702
    },
    "colab_type": "code",
    "id": "FtR3CnSH5_yZ",
    "outputId": "81a6daae-da5f-4f03-87e9-a2c7b6b7e41b"
   },
   "outputs": [
    {
     "name": "stdout",
     "output_type": "stream",
     "text": [
      "Steps per epoch: 13\n",
      "Validation Steps:3\n"
     ]
    },
    {
     "ename": "AssertionError",
     "evalue": "ignored",
     "output_type": "error",
     "traceback": [
      "\u001b[0;31m---------------------------------------------------------------------------\u001b[0m",
      "\u001b[0;31mAssertionError\u001b[0m                            Traceback (most recent call last)",
      "\u001b[0;32m<ipython-input-16-8a4e6f568eee>\u001b[0m in \u001b[0;36m<module>\u001b[0;34m()\u001b[0m\n\u001b[1;32m      4\u001b[0m                            \u001b[0m_resize\u001b[0m\u001b[0;34m=\u001b[0m\u001b[0;34m[\u001b[0m\u001b[0;36m125\u001b[0m\u001b[0;34m,\u001b[0m\u001b[0;36m125\u001b[0m\u001b[0;34m]\u001b[0m\u001b[0;34m,\u001b[0m\u001b[0;34m\u001b[0m\u001b[0;34m\u001b[0m\u001b[0m\n\u001b[1;32m      5\u001b[0m                            \u001b[0mverbose\u001b[0m\u001b[0;34m=\u001b[0m\u001b[0;32mFalse\u001b[0m\u001b[0;34m,\u001b[0m\u001b[0;34m\u001b[0m\u001b[0;34m\u001b[0m\u001b[0m\n\u001b[0;32m----> 6\u001b[0;31m                            prefix='')\n\u001b[0m\u001b[1;32m      7\u001b[0m \u001b[0mprint\u001b[0m\u001b[0;34m(\u001b[0m\u001b[0macc\u001b[0m\u001b[0;34m)\u001b[0m\u001b[0;34m\u001b[0m\u001b[0;34m\u001b[0m\u001b[0m\n",
      "\u001b[0;32m/content/Model.py\u001b[0m in \u001b[0;36mfit\u001b[0;34m(self, train_paths_labels, val_paths_labels, table, _resize, norm, batch_size, epochs, verbose, train_data, validation_data, callbacks, steps_per_epoch, validation_steps, hparam, prefix, patience, tensorboard_hist_freq)\u001b[0m\n\u001b[1;32m    227\u001b[0m             self.model.fit(train_data, epochs=epochs, verbose=verbose, callbacks=callbacks,\n\u001b[1;32m    228\u001b[0m                            \u001b[0mvalidation_data\u001b[0m\u001b[0;34m=\u001b[0m\u001b[0mvalidation_data\u001b[0m\u001b[0;34m,\u001b[0m \u001b[0msteps_per_epoch\u001b[0m\u001b[0;34m=\u001b[0m\u001b[0msteps_per_epoch\u001b[0m\u001b[0;34m,\u001b[0m\u001b[0;34m\u001b[0m\u001b[0;34m\u001b[0m\u001b[0m\n\u001b[0;32m--> 229\u001b[0;31m                            validation_steps=validation_steps)\n\u001b[0m\u001b[1;32m    230\u001b[0m \u001b[0;34m\u001b[0m\u001b[0m\n\u001b[1;32m    231\u001b[0m             \u001b[0;31m# model.save_weights(f'{log_name}.h5')\u001b[0m\u001b[0;34m\u001b[0m\u001b[0;34m\u001b[0m\u001b[0;34m\u001b[0m\u001b[0m\n",
      "\u001b[0;32m/usr/local/lib/python3.6/dist-packages/tensorflow/python/keras/engine/training.py\u001b[0m in \u001b[0;36m_method_wrapper\u001b[0;34m(self, *args, **kwargs)\u001b[0m\n\u001b[1;32m     64\u001b[0m   \u001b[0;32mdef\u001b[0m \u001b[0m_method_wrapper\u001b[0m\u001b[0;34m(\u001b[0m\u001b[0mself\u001b[0m\u001b[0;34m,\u001b[0m \u001b[0;34m*\u001b[0m\u001b[0margs\u001b[0m\u001b[0;34m,\u001b[0m \u001b[0;34m**\u001b[0m\u001b[0mkwargs\u001b[0m\u001b[0;34m)\u001b[0m\u001b[0;34m:\u001b[0m\u001b[0;34m\u001b[0m\u001b[0;34m\u001b[0m\u001b[0m\n\u001b[1;32m     65\u001b[0m     \u001b[0;32mif\u001b[0m \u001b[0;32mnot\u001b[0m \u001b[0mself\u001b[0m\u001b[0;34m.\u001b[0m\u001b[0m_in_multi_worker_mode\u001b[0m\u001b[0;34m(\u001b[0m\u001b[0;34m)\u001b[0m\u001b[0;34m:\u001b[0m  \u001b[0;31m# pylint: disable=protected-access\u001b[0m\u001b[0;34m\u001b[0m\u001b[0;34m\u001b[0m\u001b[0m\n\u001b[0;32m---> 66\u001b[0;31m       \u001b[0;32mreturn\u001b[0m \u001b[0mmethod\u001b[0m\u001b[0;34m(\u001b[0m\u001b[0mself\u001b[0m\u001b[0;34m,\u001b[0m \u001b[0;34m*\u001b[0m\u001b[0margs\u001b[0m\u001b[0;34m,\u001b[0m \u001b[0;34m**\u001b[0m\u001b[0mkwargs\u001b[0m\u001b[0;34m)\u001b[0m\u001b[0;34m\u001b[0m\u001b[0;34m\u001b[0m\u001b[0m\n\u001b[0m\u001b[1;32m     67\u001b[0m \u001b[0;34m\u001b[0m\u001b[0m\n\u001b[1;32m     68\u001b[0m     \u001b[0;31m# Running inside `run_distribute_coordinator` already.\u001b[0m\u001b[0;34m\u001b[0m\u001b[0;34m\u001b[0m\u001b[0;34m\u001b[0m\u001b[0m\n",
      "\u001b[0;32m/usr/local/lib/python3.6/dist-packages/tensorflow/python/keras/engine/training.py\u001b[0m in \u001b[0;36mfit\u001b[0;34m(self, x, y, batch_size, epochs, verbose, callbacks, validation_split, validation_data, shuffle, class_weight, sample_weight, initial_epoch, steps_per_epoch, validation_steps, validation_batch_size, validation_freq, max_queue_size, workers, use_multiprocessing, **kwargs)\u001b[0m\n\u001b[1;32m    783\u001b[0m                 batch_size=batch_size):\n\u001b[1;32m    784\u001b[0m               \u001b[0mcallbacks\u001b[0m\u001b[0;34m.\u001b[0m\u001b[0mon_train_batch_begin\u001b[0m\u001b[0;34m(\u001b[0m\u001b[0mstep\u001b[0m\u001b[0;34m)\u001b[0m\u001b[0;34m\u001b[0m\u001b[0;34m\u001b[0m\u001b[0m\n\u001b[0;32m--> 785\u001b[0;31m               \u001b[0mtmp_logs\u001b[0m \u001b[0;34m=\u001b[0m \u001b[0mtrain_function\u001b[0m\u001b[0;34m(\u001b[0m\u001b[0miterator\u001b[0m\u001b[0;34m)\u001b[0m\u001b[0;34m\u001b[0m\u001b[0;34m\u001b[0m\u001b[0m\n\u001b[0m\u001b[1;32m    786\u001b[0m               \u001b[0;31m# Catch OutOfRangeError for Datasets of unknown size.\u001b[0m\u001b[0;34m\u001b[0m\u001b[0;34m\u001b[0m\u001b[0;34m\u001b[0m\u001b[0m\n\u001b[1;32m    787\u001b[0m               \u001b[0;31m# This blocks until the batch has finished executing.\u001b[0m\u001b[0;34m\u001b[0m\u001b[0;34m\u001b[0m\u001b[0;34m\u001b[0m\u001b[0m\n",
      "\u001b[0;32m/usr/local/lib/python3.6/dist-packages/tensorflow/python/eager/def_function.py\u001b[0m in \u001b[0;36m__call__\u001b[0;34m(self, *args, **kwds)\u001b[0m\n\u001b[1;32m    578\u001b[0m         \u001b[0mxla_context\u001b[0m\u001b[0;34m.\u001b[0m\u001b[0mExit\u001b[0m\u001b[0;34m(\u001b[0m\u001b[0;34m)\u001b[0m\u001b[0;34m\u001b[0m\u001b[0;34m\u001b[0m\u001b[0m\n\u001b[1;32m    579\u001b[0m     \u001b[0;32melse\u001b[0m\u001b[0;34m:\u001b[0m\u001b[0;34m\u001b[0m\u001b[0;34m\u001b[0m\u001b[0m\n\u001b[0;32m--> 580\u001b[0;31m       \u001b[0mresult\u001b[0m \u001b[0;34m=\u001b[0m \u001b[0mself\u001b[0m\u001b[0;34m.\u001b[0m\u001b[0m_call\u001b[0m\u001b[0;34m(\u001b[0m\u001b[0;34m*\u001b[0m\u001b[0margs\u001b[0m\u001b[0;34m,\u001b[0m \u001b[0;34m**\u001b[0m\u001b[0mkwds\u001b[0m\u001b[0;34m)\u001b[0m\u001b[0;34m\u001b[0m\u001b[0;34m\u001b[0m\u001b[0m\n\u001b[0m\u001b[1;32m    581\u001b[0m \u001b[0;34m\u001b[0m\u001b[0m\n\u001b[1;32m    582\u001b[0m     \u001b[0;32mif\u001b[0m \u001b[0mtracing_count\u001b[0m \u001b[0;34m==\u001b[0m \u001b[0mself\u001b[0m\u001b[0;34m.\u001b[0m\u001b[0m_get_tracing_count\u001b[0m\u001b[0;34m(\u001b[0m\u001b[0;34m)\u001b[0m\u001b[0;34m:\u001b[0m\u001b[0;34m\u001b[0m\u001b[0;34m\u001b[0m\u001b[0m\n",
      "\u001b[0;32m/usr/local/lib/python3.6/dist-packages/tensorflow/python/eager/def_function.py\u001b[0m in \u001b[0;36m_call\u001b[0;34m(self, *args, **kwds)\u001b[0m\n\u001b[1;32m    625\u001b[0m       \u001b[0;31m# This is the first call of __call__, so we have to initialize.\u001b[0m\u001b[0;34m\u001b[0m\u001b[0;34m\u001b[0m\u001b[0;34m\u001b[0m\u001b[0m\n\u001b[1;32m    626\u001b[0m       \u001b[0minitializers\u001b[0m \u001b[0;34m=\u001b[0m \u001b[0;34m[\u001b[0m\u001b[0;34m]\u001b[0m\u001b[0;34m\u001b[0m\u001b[0;34m\u001b[0m\u001b[0m\n\u001b[0;32m--> 627\u001b[0;31m       \u001b[0mself\u001b[0m\u001b[0;34m.\u001b[0m\u001b[0m_initialize\u001b[0m\u001b[0;34m(\u001b[0m\u001b[0margs\u001b[0m\u001b[0;34m,\u001b[0m \u001b[0mkwds\u001b[0m\u001b[0;34m,\u001b[0m \u001b[0madd_initializers_to\u001b[0m\u001b[0;34m=\u001b[0m\u001b[0minitializers\u001b[0m\u001b[0;34m)\u001b[0m\u001b[0;34m\u001b[0m\u001b[0;34m\u001b[0m\u001b[0m\n\u001b[0m\u001b[1;32m    628\u001b[0m     \u001b[0;32mfinally\u001b[0m\u001b[0;34m:\u001b[0m\u001b[0;34m\u001b[0m\u001b[0;34m\u001b[0m\u001b[0m\n\u001b[1;32m    629\u001b[0m       \u001b[0;31m# At this point we know that the initialization is complete (or less\u001b[0m\u001b[0;34m\u001b[0m\u001b[0;34m\u001b[0m\u001b[0;34m\u001b[0m\u001b[0m\n",
      "\u001b[0;32m/usr/local/lib/python3.6/dist-packages/tensorflow/python/eager/def_function.py\u001b[0m in \u001b[0;36m_initialize\u001b[0;34m(self, args, kwds, add_initializers_to)\u001b[0m\n\u001b[1;32m    504\u001b[0m     self._concrete_stateful_fn = (\n\u001b[1;32m    505\u001b[0m         self._stateful_fn._get_concrete_function_internal_garbage_collected(  # pylint: disable=protected-access\n\u001b[0;32m--> 506\u001b[0;31m             *args, **kwds))\n\u001b[0m\u001b[1;32m    507\u001b[0m \u001b[0;34m\u001b[0m\u001b[0m\n\u001b[1;32m    508\u001b[0m     \u001b[0;32mdef\u001b[0m \u001b[0minvalid_creator_scope\u001b[0m\u001b[0;34m(\u001b[0m\u001b[0;34m*\u001b[0m\u001b[0munused_args\u001b[0m\u001b[0;34m,\u001b[0m \u001b[0;34m**\u001b[0m\u001b[0munused_kwds\u001b[0m\u001b[0;34m)\u001b[0m\u001b[0;34m:\u001b[0m\u001b[0;34m\u001b[0m\u001b[0;34m\u001b[0m\u001b[0m\n",
      "\u001b[0;32m/usr/local/lib/python3.6/dist-packages/tensorflow/python/eager/function.py\u001b[0m in \u001b[0;36m_get_concrete_function_internal_garbage_collected\u001b[0;34m(self, *args, **kwargs)\u001b[0m\n\u001b[1;32m   2444\u001b[0m       \u001b[0margs\u001b[0m\u001b[0;34m,\u001b[0m \u001b[0mkwargs\u001b[0m \u001b[0;34m=\u001b[0m \u001b[0;32mNone\u001b[0m\u001b[0;34m,\u001b[0m \u001b[0;32mNone\u001b[0m\u001b[0;34m\u001b[0m\u001b[0;34m\u001b[0m\u001b[0m\n\u001b[1;32m   2445\u001b[0m     \u001b[0;32mwith\u001b[0m \u001b[0mself\u001b[0m\u001b[0;34m.\u001b[0m\u001b[0m_lock\u001b[0m\u001b[0;34m:\u001b[0m\u001b[0;34m\u001b[0m\u001b[0;34m\u001b[0m\u001b[0m\n\u001b[0;32m-> 2446\u001b[0;31m       \u001b[0mgraph_function\u001b[0m\u001b[0;34m,\u001b[0m \u001b[0m_\u001b[0m\u001b[0;34m,\u001b[0m \u001b[0m_\u001b[0m \u001b[0;34m=\u001b[0m \u001b[0mself\u001b[0m\u001b[0;34m.\u001b[0m\u001b[0m_maybe_define_function\u001b[0m\u001b[0;34m(\u001b[0m\u001b[0margs\u001b[0m\u001b[0;34m,\u001b[0m \u001b[0mkwargs\u001b[0m\u001b[0;34m)\u001b[0m\u001b[0;34m\u001b[0m\u001b[0;34m\u001b[0m\u001b[0m\n\u001b[0m\u001b[1;32m   2447\u001b[0m     \u001b[0;32mreturn\u001b[0m \u001b[0mgraph_function\u001b[0m\u001b[0;34m\u001b[0m\u001b[0;34m\u001b[0m\u001b[0m\n\u001b[1;32m   2448\u001b[0m \u001b[0;34m\u001b[0m\u001b[0m\n",
      "\u001b[0;32m/usr/local/lib/python3.6/dist-packages/tensorflow/python/eager/function.py\u001b[0m in \u001b[0;36m_maybe_define_function\u001b[0;34m(self, args, kwargs)\u001b[0m\n\u001b[1;32m   2775\u001b[0m \u001b[0;34m\u001b[0m\u001b[0m\n\u001b[1;32m   2776\u001b[0m       \u001b[0mself\u001b[0m\u001b[0;34m.\u001b[0m\u001b[0m_function_cache\u001b[0m\u001b[0;34m.\u001b[0m\u001b[0mmissed\u001b[0m\u001b[0;34m.\u001b[0m\u001b[0madd\u001b[0m\u001b[0;34m(\u001b[0m\u001b[0mcall_context_key\u001b[0m\u001b[0;34m)\u001b[0m\u001b[0;34m\u001b[0m\u001b[0;34m\u001b[0m\u001b[0m\n\u001b[0;32m-> 2777\u001b[0;31m       \u001b[0mgraph_function\u001b[0m \u001b[0;34m=\u001b[0m \u001b[0mself\u001b[0m\u001b[0;34m.\u001b[0m\u001b[0m_create_graph_function\u001b[0m\u001b[0;34m(\u001b[0m\u001b[0margs\u001b[0m\u001b[0;34m,\u001b[0m \u001b[0mkwargs\u001b[0m\u001b[0;34m)\u001b[0m\u001b[0;34m\u001b[0m\u001b[0;34m\u001b[0m\u001b[0m\n\u001b[0m\u001b[1;32m   2778\u001b[0m       \u001b[0mself\u001b[0m\u001b[0;34m.\u001b[0m\u001b[0m_function_cache\u001b[0m\u001b[0;34m.\u001b[0m\u001b[0mprimary\u001b[0m\u001b[0;34m[\u001b[0m\u001b[0mcache_key\u001b[0m\u001b[0;34m]\u001b[0m \u001b[0;34m=\u001b[0m \u001b[0mgraph_function\u001b[0m\u001b[0;34m\u001b[0m\u001b[0;34m\u001b[0m\u001b[0m\n\u001b[1;32m   2779\u001b[0m       \u001b[0;32mreturn\u001b[0m \u001b[0mgraph_function\u001b[0m\u001b[0;34m,\u001b[0m \u001b[0margs\u001b[0m\u001b[0;34m,\u001b[0m \u001b[0mkwargs\u001b[0m\u001b[0;34m\u001b[0m\u001b[0;34m\u001b[0m\u001b[0m\n",
      "\u001b[0;32m/usr/local/lib/python3.6/dist-packages/tensorflow/python/eager/function.py\u001b[0m in \u001b[0;36m_create_graph_function\u001b[0;34m(self, args, kwargs, override_flat_arg_shapes)\u001b[0m\n\u001b[1;32m   2665\u001b[0m             \u001b[0marg_names\u001b[0m\u001b[0;34m=\u001b[0m\u001b[0marg_names\u001b[0m\u001b[0;34m,\u001b[0m\u001b[0;34m\u001b[0m\u001b[0;34m\u001b[0m\u001b[0m\n\u001b[1;32m   2666\u001b[0m             \u001b[0moverride_flat_arg_shapes\u001b[0m\u001b[0;34m=\u001b[0m\u001b[0moverride_flat_arg_shapes\u001b[0m\u001b[0;34m,\u001b[0m\u001b[0;34m\u001b[0m\u001b[0;34m\u001b[0m\u001b[0m\n\u001b[0;32m-> 2667\u001b[0;31m             capture_by_value=self._capture_by_value),\n\u001b[0m\u001b[1;32m   2668\u001b[0m         \u001b[0mself\u001b[0m\u001b[0;34m.\u001b[0m\u001b[0m_function_attributes\u001b[0m\u001b[0;34m,\u001b[0m\u001b[0;34m\u001b[0m\u001b[0;34m\u001b[0m\u001b[0m\n\u001b[1;32m   2669\u001b[0m         \u001b[0;31m# Tell the ConcreteFunction to clean up its graph once it goes out of\u001b[0m\u001b[0;34m\u001b[0m\u001b[0;34m\u001b[0m\u001b[0;34m\u001b[0m\u001b[0m\n",
      "\u001b[0;32m/usr/local/lib/python3.6/dist-packages/tensorflow/python/framework/func_graph.py\u001b[0m in \u001b[0;36mfunc_graph_from_py_func\u001b[0;34m(name, python_func, args, kwargs, signature, func_graph, autograph, autograph_options, add_control_dependencies, arg_names, op_return_value, collections, capture_by_value, override_flat_arg_shapes)\u001b[0m\n\u001b[1;32m    979\u001b[0m         \u001b[0m_\u001b[0m\u001b[0;34m,\u001b[0m \u001b[0moriginal_func\u001b[0m \u001b[0;34m=\u001b[0m \u001b[0mtf_decorator\u001b[0m\u001b[0;34m.\u001b[0m\u001b[0munwrap\u001b[0m\u001b[0;34m(\u001b[0m\u001b[0mpython_func\u001b[0m\u001b[0;34m)\u001b[0m\u001b[0;34m\u001b[0m\u001b[0;34m\u001b[0m\u001b[0m\n\u001b[1;32m    980\u001b[0m \u001b[0;34m\u001b[0m\u001b[0m\n\u001b[0;32m--> 981\u001b[0;31m       \u001b[0mfunc_outputs\u001b[0m \u001b[0;34m=\u001b[0m \u001b[0mpython_func\u001b[0m\u001b[0;34m(\u001b[0m\u001b[0;34m*\u001b[0m\u001b[0mfunc_args\u001b[0m\u001b[0;34m,\u001b[0m \u001b[0;34m**\u001b[0m\u001b[0mfunc_kwargs\u001b[0m\u001b[0;34m)\u001b[0m\u001b[0;34m\u001b[0m\u001b[0;34m\u001b[0m\u001b[0m\n\u001b[0m\u001b[1;32m    982\u001b[0m \u001b[0;34m\u001b[0m\u001b[0m\n\u001b[1;32m    983\u001b[0m       \u001b[0;31m# invariant: `func_outputs` contains only Tensors, CompositeTensors,\u001b[0m\u001b[0;34m\u001b[0m\u001b[0;34m\u001b[0m\u001b[0;34m\u001b[0m\u001b[0m\n",
      "\u001b[0;32m/usr/local/lib/python3.6/dist-packages/tensorflow/python/eager/def_function.py\u001b[0m in \u001b[0;36mwrapped_fn\u001b[0;34m(*args, **kwds)\u001b[0m\n\u001b[1;32m    439\u001b[0m         \u001b[0;31m# __wrapped__ allows AutoGraph to swap in a converted function. We give\u001b[0m\u001b[0;34m\u001b[0m\u001b[0;34m\u001b[0m\u001b[0;34m\u001b[0m\u001b[0m\n\u001b[1;32m    440\u001b[0m         \u001b[0;31m# the function a weak reference to itself to avoid a reference cycle.\u001b[0m\u001b[0;34m\u001b[0m\u001b[0;34m\u001b[0m\u001b[0;34m\u001b[0m\u001b[0m\n\u001b[0;32m--> 441\u001b[0;31m         \u001b[0;32mreturn\u001b[0m \u001b[0mweak_wrapped_fn\u001b[0m\u001b[0;34m(\u001b[0m\u001b[0;34m)\u001b[0m\u001b[0;34m.\u001b[0m\u001b[0m__wrapped__\u001b[0m\u001b[0;34m(\u001b[0m\u001b[0;34m*\u001b[0m\u001b[0margs\u001b[0m\u001b[0;34m,\u001b[0m \u001b[0;34m**\u001b[0m\u001b[0mkwds\u001b[0m\u001b[0;34m)\u001b[0m\u001b[0;34m\u001b[0m\u001b[0;34m\u001b[0m\u001b[0m\n\u001b[0m\u001b[1;32m    442\u001b[0m     \u001b[0mweak_wrapped_fn\u001b[0m \u001b[0;34m=\u001b[0m \u001b[0mweakref\u001b[0m\u001b[0;34m.\u001b[0m\u001b[0mref\u001b[0m\u001b[0;34m(\u001b[0m\u001b[0mwrapped_fn\u001b[0m\u001b[0;34m)\u001b[0m\u001b[0;34m\u001b[0m\u001b[0;34m\u001b[0m\u001b[0m\n\u001b[1;32m    443\u001b[0m \u001b[0;34m\u001b[0m\u001b[0m\n",
      "\u001b[0;32m/usr/local/lib/python3.6/dist-packages/tensorflow/python/framework/func_graph.py\u001b[0m in \u001b[0;36mwrapper\u001b[0;34m(*args, **kwargs)\u001b[0m\n\u001b[1;32m    966\u001b[0m           \u001b[0;32mexcept\u001b[0m \u001b[0mException\u001b[0m \u001b[0;32mas\u001b[0m \u001b[0me\u001b[0m\u001b[0;34m:\u001b[0m  \u001b[0;31m# pylint:disable=broad-except\u001b[0m\u001b[0;34m\u001b[0m\u001b[0;34m\u001b[0m\u001b[0m\n\u001b[1;32m    967\u001b[0m             \u001b[0;32mif\u001b[0m \u001b[0mhasattr\u001b[0m\u001b[0;34m(\u001b[0m\u001b[0me\u001b[0m\u001b[0;34m,\u001b[0m \u001b[0;34m\"ag_error_metadata\"\u001b[0m\u001b[0;34m)\u001b[0m\u001b[0;34m:\u001b[0m\u001b[0;34m\u001b[0m\u001b[0;34m\u001b[0m\u001b[0m\n\u001b[0;32m--> 968\u001b[0;31m               \u001b[0;32mraise\u001b[0m \u001b[0me\u001b[0m\u001b[0;34m.\u001b[0m\u001b[0mag_error_metadata\u001b[0m\u001b[0;34m.\u001b[0m\u001b[0mto_exception\u001b[0m\u001b[0;34m(\u001b[0m\u001b[0me\u001b[0m\u001b[0;34m)\u001b[0m\u001b[0;34m\u001b[0m\u001b[0;34m\u001b[0m\u001b[0m\n\u001b[0m\u001b[1;32m    969\u001b[0m             \u001b[0;32melse\u001b[0m\u001b[0;34m:\u001b[0m\u001b[0;34m\u001b[0m\u001b[0;34m\u001b[0m\u001b[0m\n\u001b[1;32m    970\u001b[0m               \u001b[0;32mraise\u001b[0m\u001b[0;34m\u001b[0m\u001b[0;34m\u001b[0m\u001b[0m\n",
      "\u001b[0;31mAssertionError\u001b[0m: in user code:\n\n    /usr/local/lib/python3.6/dist-packages/tensorflow/python/keras/engine/training.py:505 train_function  *\n        outputs = self.distribute_strategy.run(\n    /usr/local/lib/python3.6/dist-packages/tensorflow/python/distribute/distribute_lib.py:951 run  **\n        return self._extended.call_for_each_replica(fn, args=args, kwargs=kwargs)\n    /usr/local/lib/python3.6/dist-packages/tensorflow/python/distribute/distribute_lib.py:2290 call_for_each_replica\n        return self._call_for_each_replica(fn, args, kwargs)\n    /usr/local/lib/python3.6/dist-packages/tensorflow/python/distribute/distribute_lib.py:2649 _call_for_each_replica\n        return fn(*args, **kwargs)\n    /usr/local/lib/python3.6/dist-packages/tensorflow/python/keras/engine/training.py:465 train_step  **\n        y_pred = self(x, training=True)\n    /usr/local/lib/python3.6/dist-packages/tensorflow/python/keras/engine/base_layer.py:927 __call__\n        outputs = call_fn(cast_inputs, *args, **kwargs)\n    /usr/local/lib/python3.6/dist-packages/tensorflow/python/keras/engine/network.py:714 call\n        convert_kwargs_to_constants=base_layer_utils.call_context().saving)\n    /usr/local/lib/python3.6/dist-packages/tensorflow/python/keras/engine/network.py:894 _run_internal_graph\n        assert str(id(x)) in tensor_dict, 'Could not compute output ' + str(x)\n\n    AssertionError: Could not compute output Tensor(\"dense_3/Identity:0\", shape=(None, 1), dtype=float32)\n"
     ]
    }
   ],
   "source": [
    " _, acc = siamese_model.fit(train_paths_labels=train_total_split,\n",
    "                            val_paths_labels=val_total_split,\n",
    "                            epochs=30,\n",
    "                            _resize=[125,125],\n",
    "                            verbose=False,\n",
    "                            prefix='')\n",
    " print(acc)"
   ]
  },
  {
   "cell_type": "code",
   "execution_count": 0,
   "metadata": {
    "colab": {},
    "colab_type": "code",
    "id": "0j4JOmtR3eL8"
   },
   "outputs": [],
   "source": [
    "# install tensorboard - I used this guide: https://www.dlology.com/blog/quick-guide-to-run-tensorboard-in-google-colab/\n",
    "\n",
    "\n",
    "#!wget https://bin.equinox.io/c/4VmDzA7iaHb/ngrok-stable-linux-amd64.zip\n",
    "#!unzip ngrok-stable-linux-amd64.zip\n",
    "\n",
    "# Load the TensorBoard notebook extension\n",
    "# %load_ext tensorboard.notebook\n",
    "%load_ext tensorboard\n",
    "\n",
    "# Clear any logs from previous runs\n",
    "!rm -rf ./fit_logs/\n",
    "\n",
    "LOG_DIR = 'fit_logs/'\n",
    "get_ipython().system_raw(\n",
    "    'tensorboard --logdir {} --host 0.0.0.0 --port 6006 &'\n",
    "    .format(LOG_DIR)\n",
    ")\n",
    "\n",
    "get_ipython().system_raw('./ngrok http 6006 &')\n"
   ]
  },
  {
   "cell_type": "markdown",
   "metadata": {
    "colab_type": "text",
    "id": "Xmk306c_7onL"
   },
   "source": [
    "## Hyper Parameters"
   ]
  },
  {
   "cell_type": "code",
   "execution_count": 0,
   "metadata": {
    "colab": {},
    "colab_type": "code",
    "id": "9hkMSeZN7j8N"
   },
   "outputs": [],
   "source": [
    "from utils import distance_acc\n",
    "from tensorboard.plugins.hparams import api as hyper\n",
    "from tensorflow.keras.metrics import Precision, Recall\n",
    "\n",
    "UNITS_PARAM = hyper.HParam('units', hyper.Discrete([1024,2048]))\n",
    "\n",
    "NUM_FILTERS_PARAM = hyper.HParam('filter_size', hyper.Discrete([4,8,16,32,64]))\n",
    "\n",
    "BATCH_SIZE_PARAM = hyper.HParam('batch_size', hyper.Discrete([32,64,128,256]))\n",
    "\n",
    "OPTIMIZER_PARAM = hyper.HParam('optimizer', hyper.Discrete(['adam', 'sgd', 'rms']))\n",
    "\n",
    "LR_PARAM=hyper.HParam('lr', hyper.Discrete([1e-4, 1e-3, 1e-2]))\n",
    "\n",
    "METRIC_ACCURACY = 'accuracy'\n",
    "#METRIC_ACCURACY = distance_acc\n",
    "\n",
    "with tf.summary.create_file_writer('fit_logs/hparam_tuning').as_default():\n",
    "  hyper.hparams_config(\n",
    "    hparams=[\n",
    "        UNITS_PARAM, \n",
    "        NUM_FILTERS_PARAM, \n",
    "        BATCH_SIZE_PARAM, \n",
    "        OPTIMIZER_PARAM,\n",
    "        LR_PARAM\n",
    "    ],\n",
    "    metrics=[\n",
    "        hyper.Metric(METRIC_ACCURACY, display_name='Accuracy'), \n",
    "    ],\n",
    "  )\n",
    "\n"
   ]
  },
  {
   "cell_type": "code",
   "execution_count": 0,
   "metadata": {
    "colab": {},
    "colab_type": "code",
    "id": "aUg9--0d-O3u"
   },
   "outputs": [],
   "source": [
    "from Model import initialize_weights\n",
    "from utils import abs_distance\n",
    "\n",
    "\n",
    "def run_hyper_params(dir, hparams, prefix, table=None, eval_table=None,\n",
    "                     verbose=True, kernel_initializer=initialize_weights, \n",
    "                distance=abs_distance, distance_output_shape=None,\n",
    "                 loss='binary_crossentropy', metrics=['accuracy'],\n",
    "                epochs=100):\n",
    "  \n",
    "  with tf.summary.create_file_writer(dir).as_default():    \n",
    "    hyper.hparams(hparams)  # record the values used in this trial\n",
    "    siamese_model = SiameseModel(filter_size=hparams[NUM_FILTERS_PARAM],\n",
    "                                 units=hparams[UNITS_PARAM],\n",
    "                                 distance=distance,\n",
    "                                 distance_output_shape=distance_output_shape,\n",
    "                                 loss=loss,\n",
    "                                 metrics=metrics,\n",
    "                                 optimizer=hparams[OPTIMIZER_PARAM],\n",
    "                                 lr=hparams[LR_PARAM])\n",
    "    _, acc = siamese_model.fit_evaluate(train_paths_labels=train_total_split,\n",
    "                            val_paths_labels=val_total_split,\n",
    "                            test_paths_labels = test_paths,\n",
    "                            fit_table=table,\n",
    "                            eval_table=eval_table,\n",
    "                            _resize = [125,125],\n",
    "                            batch_size=hparams[BATCH_SIZE_PARAM], \n",
    "                            epochs=epochs,\n",
    "                            verbose=verbose,\n",
    "                            prefix=prefix, \n",
    "                            callbacks=[hyper.KerasCallback(dir, hparams)])\n",
    "    tf.summary.scalar(METRIC_ACCURACY, acc, step=1)"
   ]
  },
  {
   "cell_type": "code",
   "execution_count": 0,
   "metadata": {
    "colab": {},
    "colab_type": "code",
    "id": "LSfa6Is1xIgf"
   },
   "outputs": [],
   "source": []
  },
  {
   "cell_type": "code",
   "execution_count": 0,
   "metadata": {
    "colab": {},
    "colab_type": "code",
    "id": "0QQnn6ppYUvL"
   },
   "outputs": [],
   "source": [
    "session_num = 1\n",
    "\n",
    "\n",
    "model_table = PrettyTable(['Start_Runtime', 'Name', 'Resize', 'Epochs', 'Units', 'Filters', 'Batch Size', 'Optimizer', 'LR'])\n",
    "model_table.set_style(MSWORD_FRIENDLY)\n",
    "eval_table = PrettyTable([\n",
    "    'Name',\n",
    "    'Train_Time', 'Test_Loss', 'Test_Accuracy', \n",
    "    'Val_Loss', 'Val_Accuracy'\n",
    "])\n",
    "eval_table.set_style(MSWORD_FRIENDLY)\n",
    "\n",
    "\n",
    "for num_units in UNITS_PARAM.domain.values:\n",
    "  for filters in NUM_FILTERS_PARAM.domain.values:\n",
    "    for optimizer in OPTIMIZER_PARAM.domain.values:\n",
    "      for lr in LR_PARAM.domain.values:\n",
    "        for batch_size in BATCH_SIZE_PARAM.domain.values:\n",
    "#           for dropout_rate in HP_DROPOUT.domain.values:\n",
    "          hparams = {\n",
    "              UNITS_PARAM: num_units,\n",
    "              NUM_FILTERS_PARAM: filters,\n",
    "              BATCH_SIZE_PARAM: batch_size,\n",
    "              OPTIMIZER_PARAM: optimizer,\n",
    "              LR_PARAM: lr\n",
    "          }\n",
    "          run_title = f'Run_{session_num}'\n",
    "          print(f'--- Starting Running: {run_title} --- ')\n",
    "          print({h.name: hparams[h] for h in hparams})\n",
    "          run_hyper_params(\n",
    "              dir=f'fit_logs/hparam_tuning/{run_title}',\n",
    "              hparams=hparams,\n",
    "              prefix=f'hparam_{session_num}_all',\n",
    "              table=model_table,\n",
    "              eval_table = eval_table\n",
    "          )\n",
    "          session_num += 1"
   ]
  },
  {
   "cell_type": "code",
   "execution_count": 0,
   "metadata": {
    "colab": {},
    "colab_type": "code",
    "id": "Fmz0OTbZ7XkT"
   },
   "outputs": [],
   "source": [
    "%tensorboard --logdir fit_logs/hparam_tuning/"
   ]
  },
  {
   "cell_type": "code",
   "execution_count": 0,
   "metadata": {
    "colab": {},
    "colab_type": "code",
    "id": "mhyjo4oq9GS9"
   },
   "outputs": [],
   "source": [
    "!rm fit_logs/hparam_tuning/Run_1"
   ]
  },
  {
   "cell_type": "code",
   "execution_count": 0,
   "metadata": {
    "colab": {},
    "colab_type": "code",
    "id": "OovQZzOs2D1j"
   },
   "outputs": [],
   "source": [
    "from utils import create_tensor_dataset\n",
    "import time\n",
    "import datetime\n",
    "from tensorflow.keras.optimizers import Adam, SGD, RMSprop\n",
    "from tensorflow.keras.callbacks import TensorBoard, EarlyStopping, ModelCheckpoint\n",
    "from tensorflow.keras.metrics import Precision, Recall\n",
    "from tensorboard.plugins.hparams import api as hyper\n",
    "\n",
    "def model_fit(    \n",
    "    train_paths_labels,\n",
    "    val_paths_labels,\n",
    "    table=None,\n",
    "    _resize=[250, 250],\n",
    "    norm=255.0,\n",
    "    batch_size=128,\n",
    "    filter_size=4,\n",
    "    lr=3e-4,\n",
    "    epochs=30,\n",
    "    verbose=1, \n",
    "    pretrained_weights=None,\n",
    "    model_path=None,\n",
    "    distance=abs_distance,\n",
    "    distance_output_shape=None,\n",
    "    activation_predict='sigmoid',\n",
    "    train_data=None,\n",
    "    validation_data=None,\n",
    "    callbacks=None,\n",
    "    steps_per_epoch=None,\n",
    "    validation_steps=None,\n",
    "    prefix='',\n",
    "#     shuffle=True,\n",
    "    hparam=None,\n",
    "    patience=3,\n",
    "    units=4*64,\n",
    "    optimizer='adam',\n",
    "    loss='binary_crossentropy',\n",
    "    metrics=['accuracy', Precision(name='Precision'), Recall(name='Recall')],\n",
    "    tensorboard_hist_freq=1,\n",
    "):  \n",
    "  start_time = time.time()\n",
    "  input_shape = (_resize[0], _resize[1], 1)\n",
    "  start_runtime = datetime.datetime.now().strftime('%m%d-%H%M%S')\n",
    "  log_name = f'{prefix}_{start_runtime}_shape{_resize[0]}_batch{batch_size}_epochs{epochs}_lr{lr}'\n",
    "  log_paths = f'fit_logs/{log_name}'\n",
    "\n",
    "\n",
    "  if optimizer is None or optimizer == 'adam':\n",
    "    optimizer = Adam(lr=lr)\n",
    "  elif optimizer == 'sgd':\n",
    "    optimizer = SGD(lr=lr)\n",
    "  elif optimizer == 'rms':\n",
    "    optimizer = RMSprop(lr=lr)\n",
    "\n",
    "\n",
    "  if table is not None:\n",
    "      # table = PrettyTable['Start_Runtime', 'Name', 'Resize', 'Epochs', 'Units', 'Num_Filters', 'Optimizer', 'LR', 'Batch Size'])\n",
    "      if hparam is not None:\n",
    "          table.add_row(\n",
    "              [start_runtime, log_name, _resize[0], epochs] + [hparam[param] for param in hparam])\n",
    "      else:\n",
    "          table.add_row(\n",
    "              [start_runtime, log_name, _resize[0], epochs, units, filter_size,\n",
    "                batch_size, optimizer, lr])\n",
    "      print(table)\n",
    "\n",
    "  if steps_per_epoch is None:\n",
    "      steps_per_epoch = len(train_paths_labels) // batch_size\n",
    "  if validation_steps is None:\n",
    "      validation_steps = len(val_paths_labels) // batch_size\n",
    "\n",
    "  print(f'Steps per epoch: {steps_per_epoch}')\n",
    "  print(f'Validation Steps:{validation_steps}')\n",
    "\n",
    "  train_data = init_tensor_data(train_data, images_labels_path=train_paths_labels, norm=norm, _resize=_resize,\n",
    "                                batch_size=batch_size, verbose=verbose)\n",
    "  validation_data = init_tensor_data(validation_data, images_labels_path=val_paths_labels, norm=norm,\n",
    "                                      _resize=_resize, batch_size=batch_size, verbose=verbose)\n",
    "  \n",
    "\n",
    "  siameseModel = SiameseModel(\n",
    "        input_shape=input_shape, \n",
    "        filter_size=filter_size, \n",
    "        units=units,\n",
    "        optimizer=optimizer,\n",
    "        loss=loss,\n",
    "        metrics=metrics,\n",
    "        pretrained_weights=pretrained_weights,\n",
    "        model_path=model_path,\n",
    "        distance=distance,\n",
    "        distance_output_shape=distance_output_shape,\n",
    "        activation_predict=activation_predict,\n",
    "    ) \n",
    "  if pretrained_weights is None:\n",
    "      if callbacks is None:\n",
    "          callbacks = []\n",
    "\n",
    "      tb_callback = TensorBoard(\n",
    "          log_dir=log_paths,\n",
    "          histogram_freq=tensorboard_hist_freq,\n",
    "      )\n",
    "      early_stop = EarlyStopping(patience=patience, verbose=verbose)\n",
    "      mc = ModelCheckpoint(f'{log_name}.h5', verbose=0, save_best_only=True, save_weights_only=True)\n",
    "\n",
    "      callbacks.append(tb_callback)\n",
    "      callbacks.append(early_stop)\n",
    "      callbacks.append(mc)\n",
    "\n",
    "      if hparam is not None:\n",
    "          callbacks.append(hyper.KerasCallback(log_paths, hparam))\n",
    "\n",
    "      siameseModel.model.fit(train_data, epochs=epochs, verbose=verbose, callbacks=callbacks,\n",
    "                      validation_data=validation_data, steps_per_epoch=steps_per_epoch,\n",
    "                      validation_steps=validation_steps)\n",
    "\n",
    "  train_time = time.time() - start_time\n",
    "  print(f'############## {train_time:.2f} seconds! ##############')\n",
    "  return table, train_time"
   ]
  }
 ],
 "metadata": {
  "accelerator": "GPU",
  "colab": {
   "collapsed_sections": [],
   "name": "SiameseNeuralNetwork_PlayGround.ipynb",
   "provenance": [],
   "toc_visible": true
  },
  "kernelspec": {
   "display_name": "Python 3",
   "language": "python",
   "name": "python3"
  },
  "language_info": {
   "codemirror_mode": {
    "name": "ipython",
    "version": 3
   },
   "file_extension": ".py",
   "mimetype": "text/x-python",
   "name": "python",
   "nbconvert_exporter": "python",
   "pygments_lexer": "ipython3",
   "version": "3.6.5"
  }
 },
 "nbformat": 4,
 "nbformat_minor": 1
}
